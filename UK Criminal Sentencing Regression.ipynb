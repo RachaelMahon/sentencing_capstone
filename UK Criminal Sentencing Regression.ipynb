{
 "cells": [
  {
   "cell_type": "markdown",
   "metadata": {},
   "source": [
    "# Udacity Machine Learning Nanodegree Capstone Project\n",
    "\n",
    "### UK Criminal Sentencing Regression Project\n",
    "\n",
    "Welcome to my capstone Udacity Machine Learning Nanodegree project. In this notebook, you will find all of my workings on how to reproduce the results describe in the project report. \n",
    "\n",
    "Due to the size of the dataset, some instructions are required for acquiring it. Please visit the download link at: \n",
    "\n",
    "http://www.justice.gov.uk/downloads/publications/statistics-and-data/criminal-justice-stats/recordlevel.zip\n",
    "\n",
    "and place the file in the same directory as this notebook. Running the first cell of this notebook will then remove all records in the data that do not relate to actual custodial sentences. \n",
    "\n",
    "\n",
    "#### Table of contents\n",
    "\n",
    "1. Filter out non-custodial data\n",
    "2. Let's do some pre-processing and create continuous variables\n",
    "3. Let's explore our data!\n",
    "4. Let's make some visuals for our data\n",
    "5. Let's encoded some relevant variables\n",
    "6. Check Correlation\n",
    "7. Feature Selection\n",
    "8. Split the data\n",
    "9. Defining a Performance Metric\n",
    "10. Benchmark Model\n",
    "11. Parameter Optimisation\n",
    "12. Let's Train Our Model!\n",
    "13. Evaluating the Model\n",
    "14. Let's make some predictions about some cases here and evaluate whether or not the are reasonable"
   ]
  },
  {
   "cell_type": "markdown",
   "metadata": {},
   "source": [
    "#### 1. Filter out non-custodial data and print some info"
   ]
  },
  {
   "cell_type": "code",
   "execution_count": 1,
   "metadata": {},
   "outputs": [
    {
     "name": "stdout",
     "output_type": "stream",
     "text": [
      "Number of records after removing irrelevant data: 97814\n"
     ]
    }
   ],
   "source": [
    "import numpy as np\n",
    "import pandas as pd\n",
    "\n",
    "## filter warnings after seeing them once\n",
    "import warnings\n",
    "warnings.filterwarnings(action ='once')\n",
    "\n",
    "%matplotlib inline\n",
    "\n",
    "## read data to data frame\n",
    "data = pd.read_csv('recordlevel.csv', index_col=False)\n",
    "# index column is still present. I've tried debugging, currently unsure how to fix\n",
    "\n",
    "## filter out any sentence with the outcome of 'fine'\n",
    "data = data[data.Sentence_Outcome != 'Fine']\n",
    "\n",
    "## filter out sentences with unknown durations\n",
    "data = data[data.amount.notnull()]\n",
    "\n",
    "## save data to csv\n",
    "data.to_csv('custodial_sentences.csv')\n",
    "\n",
    "## print number of remaining records\n",
    "print(\"Number of records after removing irrelevant data: {}\").format(data.shape[0])"
   ]
  },
  {
   "cell_type": "markdown",
   "metadata": {},
   "source": [
    "#### 2. Let's do some pre-processing and create continuous variables"
   ]
  },
  {
   "cell_type": "markdown",
   "metadata": {},
   "source": [
    "First, here's what the data looks like to begin with"
   ]
  },
  {
   "cell_type": "code",
   "execution_count": 2,
   "metadata": {},
   "outputs": [
    {
     "data": {
      "text/html": [
       "<div>\n",
       "<style scoped>\n",
       "    .dataframe tbody tr th:only-of-type {\n",
       "        vertical-align: middle;\n",
       "    }\n",
       "\n",
       "    .dataframe tbody tr th {\n",
       "        vertical-align: top;\n",
       "    }\n",
       "\n",
       "    .dataframe thead th {\n",
       "        text-align: right;\n",
       "    }\n",
       "</style>\n",
       "<table border=\"1\" class=\"dataframe\">\n",
       "  <thead>\n",
       "    <tr style=\"text-align: right;\">\n",
       "      <th></th>\n",
       "      <th>AGE</th>\n",
       "      <th>court</th>\n",
       "      <th>Offence_type</th>\n",
       "      <th>Sentence_Outcome</th>\n",
       "      <th>amount</th>\n",
       "      <th>force</th>\n",
       "      <th>sex</th>\n",
       "      <th>Ethnicity</th>\n",
       "      <th>offence_to_completion</th>\n",
       "    </tr>\n",
       "  </thead>\n",
       "  <tbody>\n",
       "    <tr>\n",
       "      <th>3</th>\n",
       "      <td>18-24</td>\n",
       "      <td>Croydon</td>\n",
       "      <td>Burglary</td>\n",
       "      <td>Immediate custody</td>\n",
       "      <td>up to and including 3 months</td>\n",
       "      <td>Metropolitan Police</td>\n",
       "      <td>Male</td>\n",
       "      <td>White</td>\n",
       "      <td>Not Available</td>\n",
       "    </tr>\n",
       "    <tr>\n",
       "      <th>17</th>\n",
       "      <td>25-34</td>\n",
       "      <td>Highbury Corner</td>\n",
       "      <td>Burglary</td>\n",
       "      <td>Immediate custody</td>\n",
       "      <td>Over 3 months and up to and including 6 months</td>\n",
       "      <td>Metropolitan Police</td>\n",
       "      <td>Male</td>\n",
       "      <td>White</td>\n",
       "      <td>less than 6 months</td>\n",
       "    </tr>\n",
       "    <tr>\n",
       "      <th>32</th>\n",
       "      <td>25-34</td>\n",
       "      <td>Bexley</td>\n",
       "      <td>Shoplifting</td>\n",
       "      <td>Immediate custody</td>\n",
       "      <td>up to and including 3 months</td>\n",
       "      <td>Metropolitan Police</td>\n",
       "      <td>Female</td>\n",
       "      <td>White</td>\n",
       "      <td>less than 6 months</td>\n",
       "    </tr>\n",
       "    <tr>\n",
       "      <th>39</th>\n",
       "      <td>25-34</td>\n",
       "      <td>Camberwell Green/Tower Bridge</td>\n",
       "      <td>Driving Offences</td>\n",
       "      <td>Immediate custody</td>\n",
       "      <td>up to and including 3 months</td>\n",
       "      <td>Metropolitan Police</td>\n",
       "      <td>Male</td>\n",
       "      <td>Black</td>\n",
       "      <td>Not Available</td>\n",
       "    </tr>\n",
       "    <tr>\n",
       "      <th>48</th>\n",
       "      <td>25-34</td>\n",
       "      <td>Croydon</td>\n",
       "      <td>Shoplifting</td>\n",
       "      <td>Immediate custody</td>\n",
       "      <td>up to and including 3 months</td>\n",
       "      <td>Metropolitan Police</td>\n",
       "      <td>Female</td>\n",
       "      <td>White</td>\n",
       "      <td>less than 6 months</td>\n",
       "    </tr>\n",
       "  </tbody>\n",
       "</table>\n",
       "</div>"
      ],
      "text/plain": [
       "      AGE                          court      Offence_type   Sentence_Outcome  \\\n",
       "3   18-24                        Croydon          Burglary  Immediate custody   \n",
       "17  25-34                Highbury Corner          Burglary  Immediate custody   \n",
       "32  25-34                         Bexley       Shoplifting  Immediate custody   \n",
       "39  25-34  Camberwell Green/Tower Bridge  Driving Offences  Immediate custody   \n",
       "48  25-34                        Croydon       Shoplifting  Immediate custody   \n",
       "\n",
       "                                            amount                force  \\\n",
       "3                     up to and including 3 months  Metropolitan Police   \n",
       "17  Over 3 months and up to and including 6 months  Metropolitan Police   \n",
       "32                    up to and including 3 months  Metropolitan Police   \n",
       "39                    up to and including 3 months  Metropolitan Police   \n",
       "48                    up to and including 3 months  Metropolitan Police   \n",
       "\n",
       "       sex Ethnicity offence_to_completion  \n",
       "3     Male     White         Not Available  \n",
       "17    Male     White    less than 6 months  \n",
       "32  Female     White    less than 6 months  \n",
       "39    Male     Black         Not Available  \n",
       "48  Female     White    less than 6 months  "
      ]
     },
     "execution_count": 2,
     "metadata": {},
     "output_type": "execute_result"
    }
   ],
   "source": [
    "data.head()"
   ]
  },
  {
   "cell_type": "markdown",
   "metadata": {},
   "source": [
    "Now let's import some dictionaries attained from other data sources and create some continuous variables from our categories. The reasons for this are outlined in the report"
   ]
  },
  {
   "cell_type": "code",
   "execution_count": 3,
   "metadata": {},
   "outputs": [
    {
     "name": "stdout",
     "output_type": "stream",
     "text": [
      "{\n",
      "  \"4 Years\": 48, \n",
      "  \"Over 4 years and up to and including 5 years\": 48, \n",
      "  \"Over 5 years and up to and including 10 years\": 60, \n",
      "  \"Over 18 months and up to and including 3 years\": 18, \n",
      "  \"Over 3 years and less than 4 years\": 36, \n",
      "  \"up to and including 3 months\": 2, \n",
      "  \"Over 3 months and up to and including 6 months\": 3, \n",
      "  \"Over 6 months to less than 12\": 6, \n",
      "  \"Over 10 years and less than life\": 120, \n",
      "  \"12 months\": 12, \n",
      "  \"Life or Indeterminate Sentence\": 180, \n",
      "  \"Over 12 months and up to and including 18 months\": 12\n",
      "}\n"
     ]
    }
   ],
   "source": [
    "import json\n",
    "\n",
    "## import dictionary of sentences lengths to continuous variables\n",
    "\n",
    "continuous_sentencing_variables_dictionary = {}\n",
    "\n",
    "with open(\"sentence_amount.txt\") as file:\n",
    "    for line in file:\n",
    "        key, value = line.strip().split(':')\n",
    "        continuous_sentencing_variables_dictionary[key] = int(value)\n",
    "        \n",
    "## print dictionary    \n",
    "print(json.dumps(continuous_sentencing_variables_dictionary, indent=2))"
   ]
  },
  {
   "cell_type": "code",
   "execution_count": 4,
   "metadata": {},
   "outputs": [],
   "source": [
    "## replace the sentencing bands with integers representing the minimal sentence in months\n",
    "\n",
    "data = data.replace({\"amount\":continuous_sentencing_variables_dictionary})"
   ]
  },
  {
   "cell_type": "code",
   "execution_count": 5,
   "metadata": {},
   "outputs": [
    {
     "name": "stdout",
     "output_type": "stream",
     "text": [
      "{\n",
      "  \"Murder\": 2350, \n",
      "  \"Robbery\": 746, \n",
      "  \"Shoplifting\": 13, \n",
      "  \"Supply of drugs\": 497, \n",
      "  \"Other Crime\": 524, \n",
      "  \"Other Drugs\": 11, \n",
      "  \"Driving Offences\": 546, \n",
      "  \"Violent Crime\": 365, \n",
      "  \"Possession of drugs\": 6, \n",
      "  \"Other Theft\": 33, \n",
      "  \"Production/importation of drugs\": 496, \n",
      "  \"Vehicle Crime\": 36, \n",
      "  \"Burglary\": 703, \n",
      "  \"Criminal Damage and Arson\": 8, \n",
      "  \"Public Disorder and Possession of weapons\": 37\n",
      "}\n"
     ]
    }
   ],
   "source": [
    "import json\n",
    "\n",
    "## import dictionary of crime severity to continuous variables\n",
    "\n",
    "continuous_offence_variables_dictionary = {}\n",
    "\n",
    "with open(\"offence_severity.txt\") as file:\n",
    "    for line in file:\n",
    "        key, value = line.strip().split(':')\n",
    "        continuous_offence_variables_dictionary[key] = int(value)\n",
    "        \n",
    "## print dictionary    \n",
    "print(json.dumps(continuous_offence_variables_dictionary, indent=2))"
   ]
  },
  {
   "cell_type": "code",
   "execution_count": 6,
   "metadata": {},
   "outputs": [],
   "source": [
    "## replace the offences with integers representing the approximate weighted crime severity \n",
    "\n",
    "data = data.replace({\"Offence_type\":continuous_offence_variables_dictionary})"
   ]
  },
  {
   "cell_type": "code",
   "execution_count": 7,
   "metadata": {},
   "outputs": [
    {
     "name": "stdout",
     "output_type": "stream",
     "text": [
      "{\n",
      "  \"35+\": 50, \n",
      "  \"18-24\": 21, \n",
      "  \"25-34\": 29\n",
      "}\n"
     ]
    }
   ],
   "source": [
    "import json\n",
    "\n",
    "## import dictionary of age groups to continuous variables\n",
    "\n",
    "continuous_age_groups_variables_dictionary = {}\n",
    "\n",
    "with open(\"age_groups.txt\") as file:\n",
    "    for line in file:\n",
    "        key, value = line.strip().split(':')\n",
    "        continuous_age_groups_variables_dictionary[key] = int(value)\n",
    "        \n",
    "## print dictionary    \n",
    "print(json.dumps(continuous_age_groups_variables_dictionary, indent=2))"
   ]
  },
  {
   "cell_type": "code",
   "execution_count": 8,
   "metadata": {},
   "outputs": [],
   "source": [
    "## replace the offences with integers representing the average age of each age band topping out at 65\n",
    "\n",
    "data = data.replace({\"AGE\":continuous_age_groups_variables_dictionary})"
   ]
  },
  {
   "cell_type": "code",
   "execution_count": 9,
   "metadata": {},
   "outputs": [
    {
     "name": "stdout",
     "output_type": "stream",
     "text": [
      "{\n",
      "  \"1 to 2 years\": 12, \n",
      "  \"6 months to 1 year\": 6, \n",
      "  \"Not Available\": 12, \n",
      "  \"less than 6 months\": 3, \n",
      "  \"greater than 2 years\": 24\n",
      "}\n"
     ]
    }
   ],
   "source": [
    "import json\n",
    "\n",
    "## import dictionary of offence to completion to continuous variables\n",
    "\n",
    "continuous_offence_to_completion_variables_dictionary = {}\n",
    "\n",
    "with open(\"offence_to_completion.txt\") as file:\n",
    "    for line in file:\n",
    "        key, value = line.strip().split(':')\n",
    "        continuous_offence_to_completion_variables_dictionary[key] = int(value)\n",
    "        \n",
    "## print dictionary    \n",
    "print(json.dumps(continuous_offence_to_completion_variables_dictionary, indent=2))"
   ]
  },
  {
   "cell_type": "code",
   "execution_count": 10,
   "metadata": {},
   "outputs": [],
   "source": [
    "## replace the offence to completion with integers representing the offence to completion in months\n",
    "\n",
    "data = data.replace({\"offence_to_completion\":continuous_offence_to_completion_variables_dictionary})"
   ]
  },
  {
   "cell_type": "code",
   "execution_count": 11,
   "metadata": {},
   "outputs": [],
   "source": [
    "## output the data as a csv for sanity checks\n",
    "\n",
    "data.to_csv('custodial_sentences_with_continuous_variable.csv')"
   ]
  },
  {
   "cell_type": "markdown",
   "metadata": {},
   "source": [
    "#### 3. Let's explore our data!\n",
    "\n",
    "Now that we have only data relevant for our purposes remaining and converted some variables into continous variables, let's explore it."
   ]
  },
  {
   "cell_type": "code",
   "execution_count": 12,
   "metadata": {},
   "outputs": [
    {
     "name": "stdout",
     "output_type": "stream",
     "text": [
      "Sentencing data at a glance\n",
      "There are 97814 records\n",
      "Minimum sentence: 2 months\n",
      "Maximum sentence: 180 months\n",
      "Mean sentence: 12.9878340524 months\n",
      "Median sentence 3.0 months\n",
      "Standard deviation: 24.8257878998\n"
     ]
    }
   ],
   "source": [
    "## we could just use describe for this but I prefer it to \n",
    "## be more explicit, plus there is only one continuous variable\n",
    "\n",
    "# sentences is our prediction target\n",
    "sentences = data['amount']\n",
    "\n",
    "minimum_sentence = np.min(sentences)\n",
    "\n",
    "maximum_sentence = np.max(sentences)\n",
    "\n",
    "mean_sentence = np.mean(sentences)\n",
    "\n",
    "median_sentence = np.median(sentences)\n",
    "\n",
    "std_sentence = np.std(sentences)\n",
    "\n",
    "print \"Sentencing data at a glance\"\n",
    "print \"There are {} records\".format(data.shape[0])\n",
    "print \"Minimum sentence: {} months\".format(minimum_sentence)\n",
    "print \"Maximum sentence: {} months\".format(maximum_sentence)\n",
    "print \"Mean sentence: {} months\".format(mean_sentence)\n",
    "print \"Median sentence {} months\".format(median_sentence)\n",
    "print \"Standard deviation: {}\".format(std_sentence)\n"
   ]
  },
  {
   "cell_type": "markdown",
   "metadata": {},
   "source": [
    "##### Here's a look at whar the data looks like"
   ]
  },
  {
   "cell_type": "code",
   "execution_count": 13,
   "metadata": {},
   "outputs": [
    {
     "data": {
      "text/html": [
       "<div>\n",
       "<style scoped>\n",
       "    .dataframe tbody tr th:only-of-type {\n",
       "        vertical-align: middle;\n",
       "    }\n",
       "\n",
       "    .dataframe tbody tr th {\n",
       "        vertical-align: top;\n",
       "    }\n",
       "\n",
       "    .dataframe thead th {\n",
       "        text-align: right;\n",
       "    }\n",
       "</style>\n",
       "<table border=\"1\" class=\"dataframe\">\n",
       "  <thead>\n",
       "    <tr style=\"text-align: right;\">\n",
       "      <th></th>\n",
       "      <th>AGE</th>\n",
       "      <th>court</th>\n",
       "      <th>Offence_type</th>\n",
       "      <th>Sentence_Outcome</th>\n",
       "      <th>amount</th>\n",
       "      <th>force</th>\n",
       "      <th>sex</th>\n",
       "      <th>Ethnicity</th>\n",
       "      <th>offence_to_completion</th>\n",
       "    </tr>\n",
       "  </thead>\n",
       "  <tbody>\n",
       "    <tr>\n",
       "      <th>3</th>\n",
       "      <td>21</td>\n",
       "      <td>Croydon</td>\n",
       "      <td>703</td>\n",
       "      <td>Immediate custody</td>\n",
       "      <td>2</td>\n",
       "      <td>Metropolitan Police</td>\n",
       "      <td>Male</td>\n",
       "      <td>White</td>\n",
       "      <td>12</td>\n",
       "    </tr>\n",
       "    <tr>\n",
       "      <th>17</th>\n",
       "      <td>29</td>\n",
       "      <td>Highbury Corner</td>\n",
       "      <td>703</td>\n",
       "      <td>Immediate custody</td>\n",
       "      <td>3</td>\n",
       "      <td>Metropolitan Police</td>\n",
       "      <td>Male</td>\n",
       "      <td>White</td>\n",
       "      <td>3</td>\n",
       "    </tr>\n",
       "    <tr>\n",
       "      <th>32</th>\n",
       "      <td>29</td>\n",
       "      <td>Bexley</td>\n",
       "      <td>13</td>\n",
       "      <td>Immediate custody</td>\n",
       "      <td>2</td>\n",
       "      <td>Metropolitan Police</td>\n",
       "      <td>Female</td>\n",
       "      <td>White</td>\n",
       "      <td>3</td>\n",
       "    </tr>\n",
       "    <tr>\n",
       "      <th>39</th>\n",
       "      <td>29</td>\n",
       "      <td>Camberwell Green/Tower Bridge</td>\n",
       "      <td>546</td>\n",
       "      <td>Immediate custody</td>\n",
       "      <td>2</td>\n",
       "      <td>Metropolitan Police</td>\n",
       "      <td>Male</td>\n",
       "      <td>Black</td>\n",
       "      <td>12</td>\n",
       "    </tr>\n",
       "    <tr>\n",
       "      <th>48</th>\n",
       "      <td>29</td>\n",
       "      <td>Croydon</td>\n",
       "      <td>13</td>\n",
       "      <td>Immediate custody</td>\n",
       "      <td>2</td>\n",
       "      <td>Metropolitan Police</td>\n",
       "      <td>Female</td>\n",
       "      <td>White</td>\n",
       "      <td>3</td>\n",
       "    </tr>\n",
       "  </tbody>\n",
       "</table>\n",
       "</div>"
      ],
      "text/plain": [
       "    AGE                          court  Offence_type   Sentence_Outcome  \\\n",
       "3    21                        Croydon           703  Immediate custody   \n",
       "17   29                Highbury Corner           703  Immediate custody   \n",
       "32   29                         Bexley            13  Immediate custody   \n",
       "39   29  Camberwell Green/Tower Bridge           546  Immediate custody   \n",
       "48   29                        Croydon            13  Immediate custody   \n",
       "\n",
       "    amount                force     sex Ethnicity  offence_to_completion  \n",
       "3        2  Metropolitan Police    Male     White                     12  \n",
       "17       3  Metropolitan Police    Male     White                      3  \n",
       "32       2  Metropolitan Police  Female     White                      3  \n",
       "39       2  Metropolitan Police    Male     Black                     12  \n",
       "48       2  Metropolitan Police  Female     White                      3  "
      ]
     },
     "metadata": {},
     "output_type": "display_data"
    }
   ],
   "source": [
    "display(data.head())"
   ]
  },
  {
   "cell_type": "code",
   "execution_count": 14,
   "metadata": {},
   "outputs": [
    {
     "name": "stdout",
     "output_type": "stream",
     "text": [
      "The full dataset is 97814 rows x 9 columns\n"
     ]
    }
   ],
   "source": [
    "print \"The full dataset is\", data.shape[0],\"rows x\", data.shape[1], \"columns\""
   ]
  },
  {
   "cell_type": "markdown",
   "metadata": {},
   "source": [
    "##### 4.  Let's make some visuals for our data"
   ]
  },
  {
   "cell_type": "code",
   "execution_count": null,
   "metadata": {},
   "outputs": [],
   "source": [
    "import matplotlib.pyplot as plt\n",
    "import seaborn as sns\n",
    "\n",
    "visual = plt.figure(figsize=(8, 8))\n",
    "visual.suptitle('Visualization of Exploring the Data', fontsize=12, y=1.03)\n",
    "\n",
    "figure_1 = visual.add_subplot(321)\n",
    "sns.distplot(data['amount'], hist_kws={'color': 'pink', 'alpha': 1}, kde=False, ax=figure_1)\n",
    "figure_1 .set_xlabel('Duration of Sentence')\n",
    "figure_1 .set_ylabel('Defendants')\n",
    "\n",
    "figure_2 = visual.add_subplot(322)\n",
    "sns.distplot(data['offence_to_completion'], hist_kws={'color': 'pink', 'alpha': 1}, kde=False, ax=figure_2)\n",
    "figure_2 .set_xlabel('Time from offence to sentencing')\n",
    "figure_2 .set_ylabel('Defendants')\n",
    "\n",
    "figure_3 = visual.add_subplot(323)\n",
    "sns.distplot(data['Offence_type'], hist_kws={'color': 'pink', 'alpha': 1}, kde=False, ax=figure_3)\n",
    "figure_3 .set_xlabel('Weighted Offence Category')\n",
    "figure_3 .set_ylabel('Defendants')\n",
    "\n",
    "figure_4 = visual.add_subplot(324)\n",
    "sns.distplot(data['AGE'], hist_kws={'color': 'pink', 'alpha': 1}, kde=False, ax=figure_4)\n",
    "figure_4 .set_xlabel('Age')\n",
    "figure_4 .set_ylabel('Defendants')\n",
    "\n",
    "plt.tight_layout()"
   ]
  },
  {
   "cell_type": "markdown",
   "metadata": {},
   "source": [
    "##### Observations\n",
    "\n",
    "- The age categories in which people were convicted of offences were quite evenly spread amoung the three categories but was slightly higher in the 25-34 category. It seems that convictions drop off significantly after the age of 35 as there are fewer people in the entire bracket of 35+ than there are in 25-34 and about the same as is in 18-24.\n",
    "\n",
    "- There were far more people being convicted of lower level offences and the more serious the offence, the fewer convictions there were. This may mean that there were fewer of these types of offences or that they are harder to prove beyond reasonable doubt and defendants are less likely to plead guilty to them. \n",
    "\n",
    "- Most defendants were processed by the criminal justice system relatively quickly. Most cases moved from offence to completion in less than 6 months. \n",
    "\n",
    "- A large amount more defendants were sent to prison for very short sentences of \"up to and including 3 months.\" This type of sentence can be very disruptive to a persons life. This will be discussed further in the report. \n",
    "\n",
    "\n"
   ]
  },
  {
   "cell_type": "code",
   "execution_count": 16,
   "metadata": {},
   "outputs": [
    {
     "data": {
      "image/png": "[encoded data removed]",
      "text/plain": [
       "<Figure size 576x720 with 2 Axes>"
      ]
     },
     "metadata": {},
     "output_type": "display_data"
    }
   ],
   "source": [
    "visual = plt.figure(figsize=(8, 10))\n",
    "visual.suptitle('Visualization of Ethnicity and Sex', fontsize=12, x=0.5, y=1.03)\n",
    "\n",
    "\n",
    "figure_1 = plt.subplot2grid((2, 2), (0, 0), colspan=1)\n",
    "figure_1 = sns.countplot(x='Ethnicity', data=data, ax=figure_1, saturation=1, facecolor='pink')\n",
    "figure_1.set_xlabel('Ethnicity')\n",
    "figure_1.set_ylabel('Defendants')\n",
    "\n",
    "figure_2 = plt.subplot2grid((2, 2), (0, 1), colspan=1)\n",
    "figure_2 = sns.countplot(x='sex', data=data, ax=figure_2, saturation=1, facecolor='pink')\n",
    "figure_2.set_xlabel('Sex')\n",
    "figure_2.set_ylabel('Defendants')\n",
    "\n",
    "plt.tight_layout()"
   ]
  },
  {
   "cell_type": "markdown",
   "metadata": {},
   "source": [
    "##### Observations\n",
    "\n",
    "- A much higher proportion of ethnically white people were convicted of crimes and sentenced to custodial sentences than any other ethnicity. \n",
    "\n",
    "- A much higher proportion of men received custodial sentences than women. "
   ]
  },
  {
   "cell_type": "code",
   "execution_count": 26,
   "metadata": {
    "scrolled": true
   },
   "outputs": [
    {
     "data": {
      "image/png": "[encoded data removed]",
      "text/plain": [
       "<Figure size 432x288 with 1 Axes>"
      ]
     },
     "metadata": {},
     "output_type": "display_data"
    },
    {
     "data": {
      "image/png": "[encoded data removed]",
      "text/plain": [
       "<Figure size 432x288 with 1 Axes>"
      ]
     },
     "metadata": {},
     "output_type": "display_data"
    }
   ],
   "source": [
    "import matplotlib.pyplot as plt\n",
    "from sklearn.linear_model import LinearRegression\n",
    "\n",
    "\n",
    "def test_theory(input, feature):\n",
    "    reg = LinearRegression()\n",
    "    features = input[feature].values.reshape(-1, 1)\n",
    "    reg.fit(features, sentences)\n",
    "    plt.plot(features, reg.predict(features), color='red', linewidth=1)\n",
    "    plt.scatter(features, sentences, alpha=0.5, color='blue')\n",
    "    plt.xlabel(feature)\n",
    "    plt.ylabel('amount')\n",
    "    plt.show()\n",
    "    \n",
    "test_theory(data, 'offence_to_completion')\n",
    "test_theory(data, 'Offence_type') "
   ]
  },
  {
   "cell_type": "markdown",
   "metadata": {},
   "source": [
    "##### Observations\n",
    "\n",
    "- It's very difficult to tell correlation on the graph due to the nature of the values being more like categories than actual continuous variables but with the linear regression line, we can see a clear correlation with offence to completion and offence category. \n"
   ]
  },
  {
   "cell_type": "markdown",
   "metadata": {},
   "source": [
    "#### 5. Let's encoded some relevant variables\n",
    "\n",
    "I think categories like gender and ethnicity may be very useful and I don't want to lose this dimensionality because they are categorical variables so here I will encode them to binary variables."
   ]
  },
  {
   "cell_type": "code",
   "execution_count": 18,
   "metadata": {},
   "outputs": [
    {
     "data": {
      "text/html": [
       "<div>\n",
       "<style scoped>\n",
       "    .dataframe tbody tr th:only-of-type {\n",
       "        vertical-align: middle;\n",
       "    }\n",
       "\n",
       "    .dataframe tbody tr th {\n",
       "        vertical-align: top;\n",
       "    }\n",
       "\n",
       "    .dataframe thead th {\n",
       "        text-align: right;\n",
       "    }\n",
       "</style>\n",
       "<table border=\"1\" class=\"dataframe\">\n",
       "  <thead>\n",
       "    <tr style=\"text-align: right;\">\n",
       "      <th></th>\n",
       "      <th>AGE</th>\n",
       "      <th>court</th>\n",
       "      <th>Offence_type</th>\n",
       "      <th>Sentence_Outcome</th>\n",
       "      <th>amount</th>\n",
       "      <th>force</th>\n",
       "      <th>sex</th>\n",
       "      <th>Ethnicity</th>\n",
       "      <th>offence_to_completion</th>\n",
       "      <th>Asian</th>\n",
       "      <th>Black</th>\n",
       "      <th>Other</th>\n",
       "      <th>Unknown</th>\n",
       "      <th>White</th>\n",
       "      <th>Female</th>\n",
       "      <th>Male</th>\n",
       "      <th>Not Stated</th>\n",
       "    </tr>\n",
       "  </thead>\n",
       "  <tbody>\n",
       "    <tr>\n",
       "      <th>1266714</th>\n",
       "      <td>29</td>\n",
       "      <td>Newport (I.O.W) CC</td>\n",
       "      <td>746</td>\n",
       "      <td>Immediate custody</td>\n",
       "      <td>36</td>\n",
       "      <td>Hampshire</td>\n",
       "      <td>Male</td>\n",
       "      <td>White</td>\n",
       "      <td>6</td>\n",
       "      <td>0</td>\n",
       "      <td>0</td>\n",
       "      <td>0</td>\n",
       "      <td>0</td>\n",
       "      <td>1</td>\n",
       "      <td>0</td>\n",
       "      <td>1</td>\n",
       "      <td>0</td>\n",
       "    </tr>\n",
       "    <tr>\n",
       "      <th>1266715</th>\n",
       "      <td>29</td>\n",
       "      <td>Newport (I.O.W) CC</td>\n",
       "      <td>37</td>\n",
       "      <td>Immediate custody</td>\n",
       "      <td>60</td>\n",
       "      <td>Hampshire</td>\n",
       "      <td>Male</td>\n",
       "      <td>White</td>\n",
       "      <td>12</td>\n",
       "      <td>0</td>\n",
       "      <td>0</td>\n",
       "      <td>0</td>\n",
       "      <td>0</td>\n",
       "      <td>1</td>\n",
       "      <td>0</td>\n",
       "      <td>1</td>\n",
       "      <td>0</td>\n",
       "    </tr>\n",
       "    <tr>\n",
       "      <th>1266716</th>\n",
       "      <td>29</td>\n",
       "      <td>Newport (I.O.W) CC</td>\n",
       "      <td>497</td>\n",
       "      <td>Immediate custody</td>\n",
       "      <td>48</td>\n",
       "      <td>Hampshire</td>\n",
       "      <td>Male</td>\n",
       "      <td>White</td>\n",
       "      <td>12</td>\n",
       "      <td>0</td>\n",
       "      <td>0</td>\n",
       "      <td>0</td>\n",
       "      <td>0</td>\n",
       "      <td>1</td>\n",
       "      <td>0</td>\n",
       "      <td>1</td>\n",
       "      <td>0</td>\n",
       "    </tr>\n",
       "    <tr>\n",
       "      <th>1266719</th>\n",
       "      <td>50</td>\n",
       "      <td>Salisbury CC</td>\n",
       "      <td>524</td>\n",
       "      <td>Immediate custody</td>\n",
       "      <td>3</td>\n",
       "      <td>Wiltshire</td>\n",
       "      <td>Male</td>\n",
       "      <td>White</td>\n",
       "      <td>12</td>\n",
       "      <td>0</td>\n",
       "      <td>0</td>\n",
       "      <td>0</td>\n",
       "      <td>0</td>\n",
       "      <td>1</td>\n",
       "      <td>0</td>\n",
       "      <td>1</td>\n",
       "      <td>0</td>\n",
       "    </tr>\n",
       "    <tr>\n",
       "      <th>1266720</th>\n",
       "      <td>50</td>\n",
       "      <td>Salisbury CC</td>\n",
       "      <td>36</td>\n",
       "      <td>Immediate custody</td>\n",
       "      <td>2</td>\n",
       "      <td>Wiltshire</td>\n",
       "      <td>Male</td>\n",
       "      <td>White</td>\n",
       "      <td>12</td>\n",
       "      <td>0</td>\n",
       "      <td>0</td>\n",
       "      <td>0</td>\n",
       "      <td>0</td>\n",
       "      <td>1</td>\n",
       "      <td>0</td>\n",
       "      <td>1</td>\n",
       "      <td>0</td>\n",
       "    </tr>\n",
       "  </tbody>\n",
       "</table>\n",
       "</div>"
      ],
      "text/plain": [
       "         AGE               court  Offence_type   Sentence_Outcome  amount  \\\n",
       "1266714   29  Newport (I.O.W) CC           746  Immediate custody      36   \n",
       "1266715   29  Newport (I.O.W) CC            37  Immediate custody      60   \n",
       "1266716   29  Newport (I.O.W) CC           497  Immediate custody      48   \n",
       "1266719   50        Salisbury CC           524  Immediate custody       3   \n",
       "1266720   50        Salisbury CC            36  Immediate custody       2   \n",
       "\n",
       "             force   sex Ethnicity  offence_to_completion  Asian  Black  \\\n",
       "1266714  Hampshire  Male     White                      6      0      0   \n",
       "1266715  Hampshire  Male     White                     12      0      0   \n",
       "1266716  Hampshire  Male     White                     12      0      0   \n",
       "1266719  Wiltshire  Male     White                     12      0      0   \n",
       "1266720  Wiltshire  Male     White                     12      0      0   \n",
       "\n",
       "         Other  Unknown  White  Female  Male  Not Stated  \n",
       "1266714      0        0      1       0     1           0  \n",
       "1266715      0        0      1       0     1           0  \n",
       "1266716      0        0      1       0     1           0  \n",
       "1266719      0        0      1       0     1           0  \n",
       "1266720      0        0      1       0     1           0  "
      ]
     },
     "execution_count": 18,
     "metadata": {},
     "output_type": "execute_result"
    }
   ],
   "source": [
    "ethnicity_encoded = pd.get_dummies(data['Ethnicity'])\n",
    "data = data.join(ethnicity_encoded)\n",
    "\n",
    "sex_encoded = pd.get_dummies(data['sex'])\n",
    "data = data.join(sex_encoded)\n",
    "\n",
    "data.tail()"
   ]
  },
  {
   "cell_type": "markdown",
   "metadata": {},
   "source": [
    "###### 6. Check Correlation"
   ]
  },
  {
   "cell_type": "markdown",
   "metadata": {},
   "source": [
    "The above scatter plots don't provide much insight in terms of the strength of correlation right now so a correlation matrix or correlation heatmap might justify our theory more strongly that offence to completion and offence category are strong indicators of the length of sentence. "
   ]
  },
  {
   "cell_type": "code",
   "execution_count": 19,
   "metadata": {},
   "outputs": [
    {
     "data": {
      "text/plain": [
       "<matplotlib.axes._subplots.AxesSubplot at 0x124994fd0>"
      ]
     },
     "execution_count": 19,
     "metadata": {},
     "output_type": "execute_result"
    },
    {
     "data": {
      "image/png": "[encoded data removed]",
      "text/plain": [
       "<Figure size 720x720 with 2 Axes>"
      ]
     },
     "metadata": {},
     "output_type": "display_data"
    }
   ],
   "source": [
    "correlation = data.corr()\n",
    "\n",
    "figure_1 = plt.figure(figsize=(10, 10))\n",
    "figure_1.suptitle('Correlation Matrix', fontsize=14)\n",
    "mask = np.zeros_like(correlation, dtype=np.bool)\n",
    "mask[np.triu_indices_from(mask)] = True\n",
    "sns.heatmap(correlation, annot=True, mask=mask, vmax=0.5,linewidths=0.1)"
   ]
  },
  {
   "cell_type": "markdown",
   "metadata": {},
   "source": [
    "##### Observations\n",
    "\n",
    "- As a sanity check, I am pleased that being male correlates so strongly with not being female and being white correlates strongly with not being black. \n",
    "\n",
    "- As expected the duration of the sentence appears to correlate strongly with the weighted severity of the offence\n",
    "\n",
    "- Surprisingly, but understandably, the duration of the sentence appears to correlate most strongly with the length of time between the offence and sentencing. Reasons for this are discussed in the report"
   ]
  },
  {
   "cell_type": "markdown",
   "metadata": {},
   "source": [
    "#### 7. Feature Selection"
   ]
  },
  {
   "cell_type": "markdown",
   "metadata": {},
   "source": [
    "Now we can drop the data that we won't use and the categories that have now been encoded."
   ]
  },
  {
   "cell_type": "code",
   "execution_count": 20,
   "metadata": {},
   "outputs": [
    {
     "name": "stdout",
     "output_type": "stream",
     "text": [
      "The features remaining are ['AGE' 'Offence_type' 'offence_to_completion' 'Asian' 'Black' 'Other'\n",
      " 'Unknown' 'White' 'Female' 'Male' 'Not Stated']\n"
     ]
    }
   ],
   "source": [
    "features = data.drop([\"amount\",\"court\", \"Sentence_Outcome\",\"force\",\"sex\",\"Ethnicity\"], axis=1)\n",
    "\n",
    "print \"The features remaining are {}\".format(features.columns.values)"
   ]
  },
  {
   "cell_type": "markdown",
   "metadata": {},
   "source": [
    "Here's what our features looks like now"
   ]
  },
  {
   "cell_type": "code",
   "execution_count": 21,
   "metadata": {},
   "outputs": [
    {
     "data": {
      "text/html": [
       "<div>\n",
       "<style scoped>\n",
       "    .dataframe tbody tr th:only-of-type {\n",
       "        vertical-align: middle;\n",
       "    }\n",
       "\n",
       "    .dataframe tbody tr th {\n",
       "        vertical-align: top;\n",
       "    }\n",
       "\n",
       "    .dataframe thead th {\n",
       "        text-align: right;\n",
       "    }\n",
       "</style>\n",
       "<table border=\"1\" class=\"dataframe\">\n",
       "  <thead>\n",
       "    <tr style=\"text-align: right;\">\n",
       "      <th></th>\n",
       "      <th>AGE</th>\n",
       "      <th>Offence_type</th>\n",
       "      <th>offence_to_completion</th>\n",
       "      <th>Asian</th>\n",
       "      <th>Black</th>\n",
       "      <th>Other</th>\n",
       "      <th>Unknown</th>\n",
       "      <th>White</th>\n",
       "      <th>Female</th>\n",
       "      <th>Male</th>\n",
       "      <th>Not Stated</th>\n",
       "    </tr>\n",
       "  </thead>\n",
       "  <tbody>\n",
       "    <tr>\n",
       "      <th>count</th>\n",
       "      <td>97814.000000</td>\n",
       "      <td>97814.000000</td>\n",
       "      <td>97814.000000</td>\n",
       "      <td>97814.000000</td>\n",
       "      <td>97814.000000</td>\n",
       "      <td>97814.000000</td>\n",
       "      <td>97814.000000</td>\n",
       "      <td>97814.000000</td>\n",
       "      <td>97814.000000</td>\n",
       "      <td>97814.000000</td>\n",
       "      <td>97814.000000</td>\n",
       "    </tr>\n",
       "    <tr>\n",
       "      <th>mean</th>\n",
       "      <td>33.190372</td>\n",
       "      <td>322.352291</td>\n",
       "      <td>6.107347</td>\n",
       "      <td>0.057691</td>\n",
       "      <td>0.097236</td>\n",
       "      <td>0.026213</td>\n",
       "      <td>0.086010</td>\n",
       "      <td>0.732850</td>\n",
       "      <td>0.081215</td>\n",
       "      <td>0.916075</td>\n",
       "      <td>0.002709</td>\n",
       "    </tr>\n",
       "    <tr>\n",
       "      <th>std</th>\n",
       "      <td>11.951202</td>\n",
       "      <td>284.706930</td>\n",
       "      <td>4.924289</td>\n",
       "      <td>0.233160</td>\n",
       "      <td>0.296280</td>\n",
       "      <td>0.159769</td>\n",
       "      <td>0.280381</td>\n",
       "      <td>0.442474</td>\n",
       "      <td>0.273167</td>\n",
       "      <td>0.277276</td>\n",
       "      <td>0.051980</td>\n",
       "    </tr>\n",
       "    <tr>\n",
       "      <th>min</th>\n",
       "      <td>21.000000</td>\n",
       "      <td>6.000000</td>\n",
       "      <td>3.000000</td>\n",
       "      <td>0.000000</td>\n",
       "      <td>0.000000</td>\n",
       "      <td>0.000000</td>\n",
       "      <td>0.000000</td>\n",
       "      <td>0.000000</td>\n",
       "      <td>0.000000</td>\n",
       "      <td>0.000000</td>\n",
       "      <td>0.000000</td>\n",
       "    </tr>\n",
       "    <tr>\n",
       "      <th>25%</th>\n",
       "      <td>21.000000</td>\n",
       "      <td>33.000000</td>\n",
       "      <td>3.000000</td>\n",
       "      <td>0.000000</td>\n",
       "      <td>0.000000</td>\n",
       "      <td>0.000000</td>\n",
       "      <td>0.000000</td>\n",
       "      <td>0.000000</td>\n",
       "      <td>0.000000</td>\n",
       "      <td>1.000000</td>\n",
       "      <td>0.000000</td>\n",
       "    </tr>\n",
       "    <tr>\n",
       "      <th>50%</th>\n",
       "      <td>29.000000</td>\n",
       "      <td>365.000000</td>\n",
       "      <td>3.000000</td>\n",
       "      <td>0.000000</td>\n",
       "      <td>0.000000</td>\n",
       "      <td>0.000000</td>\n",
       "      <td>0.000000</td>\n",
       "      <td>1.000000</td>\n",
       "      <td>0.000000</td>\n",
       "      <td>1.000000</td>\n",
       "      <td>0.000000</td>\n",
       "    </tr>\n",
       "    <tr>\n",
       "      <th>75%</th>\n",
       "      <td>50.000000</td>\n",
       "      <td>524.000000</td>\n",
       "      <td>6.000000</td>\n",
       "      <td>0.000000</td>\n",
       "      <td>0.000000</td>\n",
       "      <td>0.000000</td>\n",
       "      <td>0.000000</td>\n",
       "      <td>1.000000</td>\n",
       "      <td>0.000000</td>\n",
       "      <td>1.000000</td>\n",
       "      <td>0.000000</td>\n",
       "    </tr>\n",
       "    <tr>\n",
       "      <th>max</th>\n",
       "      <td>50.000000</td>\n",
       "      <td>2350.000000</td>\n",
       "      <td>24.000000</td>\n",
       "      <td>1.000000</td>\n",
       "      <td>1.000000</td>\n",
       "      <td>1.000000</td>\n",
       "      <td>1.000000</td>\n",
       "      <td>1.000000</td>\n",
       "      <td>1.000000</td>\n",
       "      <td>1.000000</td>\n",
       "      <td>1.000000</td>\n",
       "    </tr>\n",
       "  </tbody>\n",
       "</table>\n",
       "</div>"
      ],
      "text/plain": [
       "                AGE  Offence_type  offence_to_completion         Asian  \\\n",
       "count  97814.000000  97814.000000           97814.000000  97814.000000   \n",
       "mean      33.190372    322.352291               6.107347      0.057691   \n",
       "std       11.951202    284.706930               4.924289      0.233160   \n",
       "min       21.000000      6.000000               3.000000      0.000000   \n",
       "25%       21.000000     33.000000               3.000000      0.000000   \n",
       "50%       29.000000    365.000000               3.000000      0.000000   \n",
       "75%       50.000000    524.000000               6.000000      0.000000   \n",
       "max       50.000000   2350.000000              24.000000      1.000000   \n",
       "\n",
       "              Black         Other       Unknown         White        Female  \\\n",
       "count  97814.000000  97814.000000  97814.000000  97814.000000  97814.000000   \n",
       "mean       0.097236      0.026213      0.086010      0.732850      0.081215   \n",
       "std        0.296280      0.159769      0.280381      0.442474      0.273167   \n",
       "min        0.000000      0.000000      0.000000      0.000000      0.000000   \n",
       "25%        0.000000      0.000000      0.000000      0.000000      0.000000   \n",
       "50%        0.000000      0.000000      0.000000      1.000000      0.000000   \n",
       "75%        0.000000      0.000000      0.000000      1.000000      0.000000   \n",
       "max        1.000000      1.000000      1.000000      1.000000      1.000000   \n",
       "\n",
       "               Male    Not Stated  \n",
       "count  97814.000000  97814.000000  \n",
       "mean       0.916075      0.002709  \n",
       "std        0.277276      0.051980  \n",
       "min        0.000000      0.000000  \n",
       "25%        1.000000      0.000000  \n",
       "50%        1.000000      0.000000  \n",
       "75%        1.000000      0.000000  \n",
       "max        1.000000      1.000000  "
      ]
     },
     "execution_count": 21,
     "metadata": {},
     "output_type": "execute_result"
    }
   ],
   "source": [
    "features.describe()"
   ]
  },
  {
   "cell_type": "markdown",
   "metadata": {},
   "source": [
    "#### 8. Split the data"
   ]
  },
  {
   "cell_type": "code",
   "execution_count": 27,
   "metadata": {},
   "outputs": [
    {
     "name": "stdout",
     "output_type": "stream",
     "text": [
      "Training and testing split completed.\n"
     ]
    }
   ],
   "source": [
    "from sklearn.cross_validation import train_test_split\n",
    "\n",
    "X_train, X_test, y_train, y_test = train_test_split(features, sentences, random_state=7, test_size=0.20)\n",
    "\n",
    "print \"Training and testing split completed.\""
   ]
  },
  {
   "cell_type": "markdown",
   "metadata": {},
   "source": [
    "#### 9. Defining a Performance Metric\n",
    "\n",
    "The performance metric used is the r2 score and the mean squared error"
   ]
  },
  {
   "cell_type": "code",
   "execution_count": 23,
   "metadata": {},
   "outputs": [],
   "source": [
    "from sklearn.metrics import r2_score\n",
    "\n",
    "def performance_metric(y_true, y_predict):\n",
    "    score = r2_score(y_true, y_predict)\n",
    "    return score"
   ]
  },
  {
   "cell_type": "markdown",
   "metadata": {},
   "source": [
    "#### 10. Benchmark Model\n",
    "\n",
    "I have used two bench mark models. I initially tried a linear regression model but it felt so basic and performed so poorly that I tried a single feature decision tree regressor with three different max depths and they did not perform significantly better. \n"
   ]
  },
  {
   "cell_type": "code",
   "execution_count": 59,
   "metadata": {},
   "outputs": [
    {
     "name": "stdout",
     "output_type": "stream",
     "text": [
      "Variance score: 0.10\n"
     ]
    },
    {
     "data": {
      "image/png": "[encoded data removed]",
      "text/plain": [
       "<Figure size 432x288 with 1 Axes>"
      ]
     },
     "metadata": {},
     "output_type": "display_data"
    }
   ],
   "source": [
    "import matplotlib.pyplot as plt\n",
    "import numpy as np\n",
    "from sklearn import datasets, linear_model\n",
    "from sklearn.metrics import r2_score\n",
    "\n",
    "regr = linear_model.LinearRegression()\n",
    "\n",
    "regr.fit(X_train[\"Offence_type\"].values.reshape(-1, 1), y_train.values.reshape(-1, 1))\n",
    "\n",
    "y_pred = regr.predict(X_test[\"Offence_type\"].values.reshape(-1, 1))\n",
    "\n",
    "print('Variance score: %.2f' % r2_score(y_test, y_pred))\n",
    "\n",
    "plt.scatter(X_test[\"Offence_type\"], y_test,  color='red')\n",
    "plt.plot(X_test[\"Offence_type\"], y_pred, color='blue', linewidth=3)\n",
    "\n",
    "plt.xlabel(\"Weighted Offence Category\")\n",
    "plt.ylabel('Duration of Sentence')\n",
    "\n",
    "plt.xticks(())\n",
    "plt.yticks(())\n",
    "\n",
    "plt.show()"
   ]
  },
  {
   "cell_type": "code",
   "execution_count": 52,
   "metadata": {},
   "outputs": [
    {
     "data": {
      "image/png": "[encoded data removed]",
      "text/plain": [
       "<Figure size 432x288 with 1 Axes>"
      ]
     },
     "metadata": {},
     "output_type": "display_data"
    },
    {
     "name": "stdout",
     "output_type": "stream",
     "text": [
      "R^2 score for decision tree regressor with a max depth of 2 = -3.46\n",
      "R^2 score for decision tree regressor with a max depth of 5 = -1.93\n",
      "R^2 score for decision tree regressor with a max depth of 8 = -1.90\n"
     ]
    }
   ],
   "source": [
    "from sklearn.tree import DecisionTreeRegressor\n",
    "\n",
    "regr_1 = DecisionTreeRegressor(max_depth=2)\n",
    "regr_2 = DecisionTreeRegressor(max_depth=5)\n",
    "regr_3 = DecisionTreeRegressor(max_depth=8)\n",
    "\n",
    "regr_1.fit(X_train[\"Offence_type\"].values.reshape(-1, 1), y_train)\n",
    "regr_2.fit(X_train[\"Offence_type\"].values.reshape(-1, 1), y_train)\n",
    "regr_3.fit(X_train[\"Offence_type\"].values.reshape(-1, 1), y_train)\n",
    "\n",
    "pred_y_1 = regr_1.predict(X_test[\"Offence_type\"].values.reshape(-1, 1))\n",
    "pred_y_2 = regr_2.predict(X_test[\"Offence_type\"].values.reshape(-1, 1))\n",
    "pred_y_3 = regr_3.predict(X_test[\"Offence_type\"].values.reshape(-1, 1))\n",
    "\n",
    "plt.figure()\n",
    "plt.scatter(X_train[\"Offence_type\"], y_train, s=20, edgecolor=\"black\",\n",
    "            c=\"darkorange\", label=\"data\")\n",
    "\n",
    "plt.plot(X_test[\"Offence_type\"], pred_y_1, color=\"darkmagenta\",\n",
    "         label=\"max_depth=2\", linewidth=2)\n",
    "r2_score_1 = performance_metric(pred_y_1, y_test)\n",
    "\n",
    "plt.plot(X_test[\"Offence_type\"], pred_y_2, color=\"cornflowerblue\", label=\"max_depth=5\", linewidth=2)\n",
    "r2_score_2 = performance_metric(pred_y_2, y_test)\n",
    "\n",
    "plt.plot(X_test[\"Offence_type\"], pred_y_3, color=\"yellowgreen\",\n",
    "         label=\"max_depth=8\", linewidth=2)\n",
    "r2_score_3 = performance_metric(pred_y_3, y_test)\n",
    "\n",
    "plt.xlabel(\"Weighted Offence Category\")\n",
    "plt.ylabel(\"Sentence\")\n",
    "plt.title(\"Decision Tree Regression\")\n",
    "plt.legend()\n",
    "plt.show()\n",
    "\n",
    "print \"R^2 score for decision tree regressor with a max depth of 2 = %.2f\" % r2_score_1\n",
    "print \"R^2 score for decision tree regressor with a max depth of 5 = %.2f\" % r2_score_2\n",
    "print \"R^2 score for decision tree regressor with a max depth of 8 = %.2f\" % r2_score_3"
   ]
  },
  {
   "cell_type": "markdown",
   "metadata": {},
   "source": [
    "#### 11. Parameter Optimisation\n",
    "\n",
    "o\n",
    "o\n",
    "o\n",
    "o\n",
    "o\n",
    "oLet's have some learning curves and model complexity graphs here\n",
    "o\n",
    "o\n",
    "o\n",
    "o\n"
   ]
  },
  {
   "cell_type": "markdown",
   "metadata": {},
   "source": [
    "Here I use the grid search method to optimise the Decision Tree Regressor and obtain the optimal parameters for training the model."
   ]
  },
  {
   "cell_type": "code",
   "execution_count": 33,
   "metadata": {},
   "outputs": [],
   "source": [
    "from sklearn.metrics import make_scorer\n",
    "from sklearn.cross_validation import ShuffleSplit\n",
    "from sklearn.grid_search import GridSearchCV\n",
    "\n",
    "def fit_model(X, y):\n",
    "    cv_sets = ShuffleSplit(X.shape[0], n_iter=10, test_size=0.1, train_size=None, random_state=None)\n",
    "\n",
    "    regressor = DecisionTreeRegressor()\n",
    "    scoring_fnc = make_scorer(performance_metric)\n",
    "    grid = GridSearchCV(regressor, params, scoring_fnc, cv=cv_sets)\n",
    "    grid = grid.fit(X, y)\n",
    "\n",
    "    return grid.best_estimator_\n"
   ]
  },
  {
   "cell_type": "code",
   "execution_count": 32,
   "metadata": {},
   "outputs": [],
   "source": [
    "params = {'max_depth': list(range(1,11))}\n",
    "\n",
    "reg = fit_model(X_train[\"Offence_type\"].values.reshape(-1, 1), y_train.values.reshape(-1, 1))"
   ]
  },
  {
   "cell_type": "code",
   "execution_count": 34,
   "metadata": {},
   "outputs": [
    {
     "name": "stdout",
     "output_type": "stream",
     "text": [
      "Parameter 'max_depth' is 10 for the optimal model.\n"
     ]
    }
   ],
   "source": [
    "print \"Parameter 'max_depth' is {} for the optimal model.\".format(reg.get_params()['max_depth'])"
   ]
  },
  {
   "cell_type": "markdown",
   "metadata": {},
   "source": [
    "Learning Curves"
   ]
  },
  {
   "cell_type": "code",
   "execution_count": 39,
   "metadata": {},
   "outputs": [
    {
     "data": {
      "image/png": "[encoded data removed]",
      "text/plain": [
       "<Figure size 720x504 with 4 Axes>"
      ]
     },
     "metadata": {},
     "output_type": "display_data"
    }
   ],
   "source": [
    "import visuals as vs\n",
    "\n",
    "vs.ModelLearning(features, sentences)\n"
   ]
  },
  {
   "cell_type": "markdown",
   "metadata": {},
   "source": [
    "Model Complexity"
   ]
  },
  {
   "cell_type": "code",
   "execution_count": 38,
   "metadata": {},
   "outputs": [
    {
     "data": {
      "image/png": "[encoded data removed]",
      "text/plain": [
       "<Figure size 504x360 with 1 Axes>"
      ]
     },
     "metadata": {},
     "output_type": "display_data"
    }
   ],
   "source": [
    "vs.ModelComplexity(X_train, y_train)"
   ]
  },
  {
   "cell_type": "markdown",
   "metadata": {},
   "source": [
    "#### 12. Let's Train Our Model! "
   ]
  },
  {
   "cell_type": "code",
   "execution_count": 40,
   "metadata": {},
   "outputs": [
    {
     "data": {
      "text/plain": [
       "DecisionTreeRegressor(criterion='mse', max_depth=7, max_features=None,\n",
       "           max_leaf_nodes=None, min_impurity_decrease=0.0,\n",
       "           min_impurity_split=None, min_samples_leaf=1,\n",
       "           min_samples_split=2, min_weight_fraction_leaf=0.0,\n",
       "           presort=False, random_state=None, splitter='best')"
      ]
     },
     "execution_count": 40,
     "metadata": {},
     "output_type": "execute_result"
    }
   ],
   "source": [
    "regressor = DecisionTreeRegressor(max_depth=7)\n",
    "regressor.fit(X_train, y_train)"
   ]
  },
  {
   "cell_type": "markdown",
   "metadata": {},
   "source": [
    "#### 13. Evaluating the Model\n",
    "\n",
    "Visualisations?"
   ]
  },
  {
   "cell_type": "code",
   "execution_count": 58,
   "metadata": {},
   "outputs": [
    {
     "name": "stdout",
     "output_type": "stream",
     "text": [
      "R2 Score: 0.325214733155\n"
     ]
    }
   ],
   "source": [
    "R_2 = performance_metric(y_test, regressor.predict(X_test))\n",
    "\n",
    "print(\"R2 Score: {}\".format(R_2))"
   ]
  },
  {
   "cell_type": "markdown",
   "metadata": {},
   "source": [
    "#### 14. Let's make some predictions about some cases here and evaluate whether or not the are reasonable"
   ]
  },
  {
   "cell_type": "code",
   "execution_count": 42,
   "metadata": {},
   "outputs": [
    {
     "name": "stdout",
     "output_type": "stream",
     "text": [
      "Predicted custodial sentences for Defendant 1 is: 51.22 months\n",
      "Predicted custodial sentences for Defendant 2 is: 2.17 months\n",
      "Predicted custodial sentences for Defendant 3 is: 8.31 months\n"
     ]
    }
   ],
   "source": [
    "defendent_features = [[29,746,6,0,0,0,0,1,0,1,0],[29,13,3,0,0,0,0,1,1,0,0],\n",
    "                      [50,36,12,0,0,0,0,1,0,1,0]]\n",
    "\n",
    "for i, sentence in enumerate(regressor.predict(defendent_features)):\n",
    "    print \"Predicted custodial sentences for Defendant {} is: {:,.2f} months\".format(i+1, sentence)"
   ]
  }
 ],
 "metadata": {
  "kernelspec": {
   "display_name": "Python 2",
   "language": "python",
   "name": "python2"
  },
  "language_info": {
   "codemirror_mode": {
    "name": "ipython",
    "version": 2
   },
   "file_extension": ".py",
   "mimetype": "text/x-python",
   "name": "python",
   "nbconvert_exporter": "python",
   "pygments_lexer": "ipython2",
   "version": "2.7.15"
  }
 },
 "nbformat": 4,
 "nbformat_minor": 2
}
